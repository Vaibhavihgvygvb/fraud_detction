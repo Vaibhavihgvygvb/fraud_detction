{
  "nbformat": 4,
  "nbformat_minor": 0,
  "metadata": {
    "colab": {
      "provenance": []
    },
    "kernelspec": {
      "name": "python3",
      "display_name": "Python 3"
    },
    "language_info": {
      "name": "python"
    }
  },
  "cells": [
    {
      "cell_type": "code",
      "execution_count": 1,
      "metadata": {
        "id": "2AwCf3Tiotfp",
        "colab": {
          "base_uri": "https://localhost:8080/",
          "height": 297
        },
        "outputId": "a5284788-87ba-4cd0-9a27-665e018af038"
      },
      "outputs": [
        {
          "output_type": "stream",
          "name": "stderr",
          "text": [
            "[nltk_data] Downloading package punkt to /root/nltk_data...\n",
            "[nltk_data]   Unzipping tokenizers/punkt.zip.\n",
            "[nltk_data] Downloading package stopwords to /root/nltk_data...\n",
            "[nltk_data]   Unzipping corpora/stopwords.zip.\n"
          ]
        },
        {
          "output_type": "error",
          "ename": "NameError",
          "evalue": "ignored",
          "traceback": [
            "\u001b[0;31m---------------------------------------------------------------------------\u001b[0m",
            "\u001b[0;31mNameError\u001b[0m                                 Traceback (most recent call last)",
            "\u001b[0;32m<ipython-input-1-a2dbf4d4251e>\u001b[0m in \u001b[0;36m<cell line: 52>\u001b[0;34m()\u001b[0m\n\u001b[1;32m     50\u001b[0m         \u001b[0mprint\u001b[0m\u001b[0;34m(\u001b[0m\u001b[0;34m\"No signs of fraud detected in this social media post.\"\u001b[0m\u001b[0;34m)\u001b[0m\u001b[0;34m\u001b[0m\u001b[0;34m\u001b[0m\u001b[0m\n\u001b[1;32m     51\u001b[0m \u001b[0;34m\u001b[0m\u001b[0m\n\u001b[0;32m---> 52\u001b[0;31m \u001b[0;32mif\u001b[0m \u001b[0m_name_\u001b[0m \u001b[0;34m==\u001b[0m \u001b[0;34m\"_main_\"\u001b[0m\u001b[0;34m:\u001b[0m\u001b[0;34m\u001b[0m\u001b[0;34m\u001b[0m\u001b[0m\n\u001b[0m\u001b[1;32m     53\u001b[0m     \u001b[0mmain\u001b[0m\u001b[0;34m(\u001b[0m\u001b[0;34m)\u001b[0m\u001b[0;34m\u001b[0m\u001b[0;34m\u001b[0m\u001b[0m\n",
            "\u001b[0;31mNameError\u001b[0m: name '_name_' is not defined"
          ]
        }
      ],
      "source": [
        "import nltk\n",
        "from nltk.tokenize import word_tokenize\n",
        "from nltk.corpus import stopwords\n",
        "from nltk.probability import FreqDist\n",
        "from nltk.tokenize import RegexpTokenizer\n",
        "import string\n",
        "\n",
        "nltk.download('punkt')\n",
        "nltk.download('stopwords')\n",
        "\n",
        "def preprocess_text(text):\n",
        "    # Tokenize the text\n",
        "    tokenizer = RegexpTokenizer(r'\\w+')\n",
        "    words = tokenizer.tokenize(text)\n",
        "\n",
        "    # Remove stop words and punctuation\n",
        "    stop_words = set(stopwords.words('english') + list(string.punctuation))\n",
        "    words = [word.lower() for word in words if word.lower() not in stop_words]\n",
        "\n",
        "    return words\n",
        "\n",
        "def analyze_text(text):\n",
        "    # Preprocess the text\n",
        "    words = preprocess_text(text)\n",
        "\n",
        "    # Calculate word frequencies\n",
        "    fdist = FreqDist(words)\n",
        "\n",
        "    # Check for suspicious keywords\n",
        "    suspicious_keywords = ['fraud', 'scam', 'fake', 'phishing', 'deceptive', 'unauthorized']\n",
        "\n",
        "    for keyword in suspicious_keywords:\n",
        "        if fdist[keyword] > 0:\n",
        "            return True  # Suspicious keyword found\n",
        "\n",
        "    return False  # No suspicious keyword found\n",
        "\n",
        "def main():\n",
        "    # Example social media post\n",
        "    social_media_post = \"\"\"\n",
        "    Hey, click this link to win a free iPhone! Limited time offer! #giveaway #freebies\n",
        "    \"\"\"\n",
        "\n",
        "    # Analyze the text for fraud\n",
        "    is_fraudulent = analyze_text(social_media_post)\n",
        "\n",
        "    if is_fraudulent:\n",
        "        print(\"Warning: This social media post may be fraudulent.\")\n",
        "    else:\n",
        "        print(\"No signs of fraud detected in this social media post.\")\n",
        "\n",
        "if _name_ == \"_main_\":\n",
        "    main()"
      ]
    }
  ]
}